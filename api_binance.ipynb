{
  "nbformat": 4,
  "nbformat_minor": 0,
  "metadata": {
    "colab": {
      "name": "api_binance.ipynb",
      "provenance": [],
      "authorship_tag": "ABX9TyMdbJPBLygfcVC7t0aVjDoc",
      "include_colab_link": true
    },
    "kernelspec": {
      "name": "python3",
      "display_name": "Python 3"
    }
  },
  "cells": [
    {
      "cell_type": "markdown",
      "metadata": {
        "id": "view-in-github",
        "colab_type": "text"
      },
      "source": [
        "<a href=\"https://colab.research.google.com/github/iron59zug/YFapi/blob/master/api_binance.ipynb\" target=\"_parent\"><img src=\"https://colab.research.google.com/assets/colab-badge.svg\" alt=\"Open In Colab\"/></a>"
      ]
    },
    {
      "cell_type": "code",
      "metadata": {
        "id": "M7HhPv_xclAZ"
      },
      "source": [
        "# https://www.binance.com/en/support/faq/360002502072-How-to-create-API\n",
        "# https://binance-docs.github.io/apidocs/spot/en/#change-log\n",
        "\n",
        "import requests # alternative:\n",
        "from urllib3 import PoolManager; \n",
        "from time import sleep\n",
        "\n",
        "API = 'https://api.binance.com'\n",
        "# All endpoints return either a JSON object or array, sort in ascending order, time in ms\n",
        "# Spot Test Network https://testnet.binance.vision/\n",
        "KEY = \"\" # insert API key"
      ],
      "execution_count": null,
      "outputs": []
    }
  ]
}