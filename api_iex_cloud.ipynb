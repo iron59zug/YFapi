{
  "nbformat": 4,
  "nbformat_minor": 0,
  "metadata": {
    "colab": {
      "name": "api_iex_cloud.ipynb",
      "provenance": [],
      "authorship_tag": "ABX9TyMa2YgFFYpUnt/Lb/WKaUMq",
      "include_colab_link": true
    },
    "kernelspec": {
      "name": "python3",
      "display_name": "Python 3"
    }
  },
  "cells": [
    {
      "cell_type": "markdown",
      "metadata": {
        "id": "view-in-github",
        "colab_type": "text"
      },
      "source": [
        "<a href=\"https://colab.research.google.com/github/iron59zug/YFapi/blob/master/api_iex_cloud.ipynb\" target=\"_parent\"><img src=\"https://colab.research.google.com/assets/colab-badge.svg\" alt=\"Open In Colab\"/></a>"
      ]
    },
    {
      "cell_type": "code",
      "metadata": {
        "id": "PC75Irk-Z6uQ"
      },
      "source": [
        "# calling to API by a request w/ interpolated values\n",
        "# IEX Cloud API not free of charge\n",
        "# video course from freeCodeCamp (4 dec 2020) https://www.youtube.com/watch?v=xfzGZB4HhEE\n",
        "\n",
        "import math\n",
        "import numpy as np # coded in C, example of Python as glue for other faster languages\n",
        "import pandas as pd # to treat tabular data eg from csv\n",
        "import requests # for http communication\n",
        "# not working in colab? import xlsxwriter # save output in excel"
      ],
      "execution_count": 42,
      "outputs": []
    },
    {
      "cell_type": "code",
      "metadata": {
        "id": "VmM4bb53bp_S",
        "colab": {
          "base_uri": "https://localhost:8080/",
          "height": 35
        },
        "outputId": "c1a687db-aa5f-49d6-9fb7-9dea792df07f"
      },
      "source": [
        "a1 = 'MSFT' # 1975\n",
        "a2 = 'APPL' # 1976\n",
        "a3 = 'AMZN' # 1994\n",
        "a4 = 'GOOGL' # 1998; Alphabet's A share has 1 vote; C share \"GOOG\" has no vote\n",
        "a5 = 'FB' # 2004\n",
        "\n",
        "ticker = a1 # choose one asset name that will pass to ticker, or:\n",
        "tickers = [a1, a2, a3, a4, a5] # use a list of tickers\n",
        "tstring = ','.join(tickers) # serialize list into string\n",
        "\n",
        "tstring"
      ],
      "execution_count": 43,
      "outputs": [
        {
          "output_type": "execute_result",
          "data": {
            "application/vnd.google.colaboratory.intrinsic+json": {
              "type": "string"
            },
            "text/plain": [
              "'MSFT,APPL,AMZN,GOOGL,FB'"
            ]
          },
          "metadata": {
            "tags": []
          },
          "execution_count": 43
        }
      ]
    },
    {
      "cell_type": "code",
      "metadata": {
        "colab": {
          "base_uri": "https://localhost:8080/"
        },
        "id": "1I6S7vpCb0Cv",
        "outputId": "f9a94a7f-71e4-417e-c79f-90b602c11d05"
      },
      "source": [
        "endpoint = 'chart'\r\n",
        "period = '1y'\r\n",
        "KEY = 'Tpk_059b97af715d417d9f49f50b51b1c448' # free IEX Cloud API key for testing\r\n",
        "''' for API key stored in key.py file\r\n",
        "    (IEX_CLOUD_API_TOKEN = 'Tpk_059b97af715d417d9f49f50b51b1c448')\r\n",
        "from key import IEX_CLOUD_API_TOKEN\r\n",
        "'''\r\n",
        "\r\n",
        "# request = f'https://cloud.iexapis.com/stable/stock/market/batch?symbols={string}&types={endpoint}&range={period}&token={KEY}' # non-free api\r\n",
        "request = f'https://sandbox.iexapis.com/stable/stock/{a1}/quote?token={KEY}' # free, not real data #fstring\r\n",
        "df = requests.get(request)# get/post/put/delete\r\n",
        "print (df.status_code == 200) # check url if 404"
      ],
      "execution_count": 44,
      "outputs": [
        {
          "output_type": "stream",
          "text": [
            "True\n"
          ],
          "name": "stdout"
        }
      ]
    },
    {
      "cell_type": "code",
      "metadata": {
        "colab": {
          "base_uri": "https://localhost:8080/"
        },
        "id": "gqu_VE2BgpsG",
        "outputId": "fad539a2-b05e-4d5f-de8e-96c9025df089"
      },
      "source": [
        "df = requests.get(request).json()\r\n",
        "df"
      ],
      "execution_count": 45,
      "outputs": [
        {
          "output_type": "execute_result",
          "data": {
            "text/plain": [
              "{'avgTotalVolume': 26758288,\n",
              " 'calculationPrice': 'close',\n",
              " 'change': 1.02,\n",
              " 'changePercent': 0.00455,\n",
              " 'close': 233.52,\n",
              " 'closeSource': 'aoficifl',\n",
              " 'closeTime': 1630108479110,\n",
              " 'companyName': 'Microsoft Corporation',\n",
              " 'delayedPrice': 228.93,\n",
              " 'delayedPriceTime': 1672811038471,\n",
              " 'extendedChange': 0.77,\n",
              " 'extendedChangePercent': 0.00342,\n",
              " 'extendedPrice': 236.2,\n",
              " 'extendedPriceTime': 1634850488901,\n",
              " 'high': 239.27,\n",
              " 'highSource': ' p  d5etyulrdmc1iienaee',\n",
              " 'highTime': 1653102932098,\n",
              " 'iexAskPrice': None,\n",
              " 'iexAskSize': None,\n",
              " 'iexBidPrice': None,\n",
              " 'iexBidSize': None,\n",
              " 'iexClose': 227.71,\n",
              " 'iexCloseTime': 1637565346798,\n",
              " 'iexLastUpdated': None,\n",
              " 'iexMarketPercent': None,\n",
              " 'iexOpen': 228.29,\n",
              " 'iexOpenTime': 1689051216914,\n",
              " 'iexRealtimePrice': None,\n",
              " 'iexRealtimeSize': None,\n",
              " 'iexVolume': None,\n",
              " 'isUSMarketOpen': False,\n",
              " 'lastTradeTime': 1670068616784,\n",
              " 'latestPrice': 231.63,\n",
              " 'latestSource': 'Close',\n",
              " 'latestTime': 'January 22, 2021',\n",
              " 'latestUpdate': 1616441473313,\n",
              " 'latestVolume': 30474227,\n",
              " 'low': 226.8,\n",
              " 'lowSource': 'emi dnaeutyc1 pe5eidl r',\n",
              " 'lowTime': 1630217916786,\n",
              " 'marketCap': 1750761594218,\n",
              " 'oddLotDelayedPrice': 235.85,\n",
              " 'oddLotDelayedPriceTime': 1627493718589,\n",
              " 'open': 237.9,\n",
              " 'openSource': 'loacffii',\n",
              " 'openTime': 1652759225944,\n",
              " 'peRatio': 37.96,\n",
              " 'previousClose': 234.05,\n",
              " 'previousVolume': 31423030,\n",
              " 'primaryExchange': ' KQSEGALATACLSN(TN/ )LA MSRBEODGE',\n",
              " 'symbol': 'MSFT',\n",
              " 'volume': 31578631,\n",
              " 'week52High': 232.72,\n",
              " 'week52Low': 137.26,\n",
              " 'ytdChange': 0.0207891537552324}"
            ]
          },
          "metadata": {
            "tags": []
          },
          "execution_count": 45
        }
      ]
    },
    {
      "cell_type": "code",
      "metadata": {
        "colab": {
          "base_uri": "https://localhost:8080/"
        },
        "id": "curFyQl1jKBe",
        "outputId": "4042f391-903c-4f3d-c95e-b48bce173bd8"
      },
      "source": [
        "close = df['close']\r\n",
        "mc = df['marketCap']\r\n",
        "close,mc"
      ],
      "execution_count": 46,
      "outputs": [
        {
          "output_type": "execute_result",
          "data": {
            "text/plain": [
              "(233.52, 1750761594218)"
            ]
          },
          "metadata": {
            "tags": []
          },
          "execution_count": 46
        }
      ]
    },
    {
      "cell_type": "code",
      "metadata": {
        "colab": {
          "base_uri": "https://localhost:8080/",
          "height": 77
        },
        "id": "ttFhWkPlj9Rg",
        "outputId": "8abc060a-2da0-43ac-df31-c6ac7553d2bd"
      },
      "source": [
        "ct = ['ticker', 'close price', 'market cap', 'buy qty']\r\n",
        "final_df = pd.DataFrame([[1,2,3,4]], columns = ct)\r\n",
        "final_df"
      ],
      "execution_count": 47,
      "outputs": [
        {
          "output_type": "execute_result",
          "data": {
            "text/html": [
              "<div>\n",
              "<style scoped>\n",
              "    .dataframe tbody tr th:only-of-type {\n",
              "        vertical-align: middle;\n",
              "    }\n",
              "\n",
              "    .dataframe tbody tr th {\n",
              "        vertical-align: top;\n",
              "    }\n",
              "\n",
              "    .dataframe thead th {\n",
              "        text-align: right;\n",
              "    }\n",
              "</style>\n",
              "<table border=\"1\" class=\"dataframe\">\n",
              "  <thead>\n",
              "    <tr style=\"text-align: right;\">\n",
              "      <th></th>\n",
              "      <th>ticker</th>\n",
              "      <th>close price</th>\n",
              "      <th>market cap</th>\n",
              "      <th>buy qty</th>\n",
              "    </tr>\n",
              "  </thead>\n",
              "  <tbody>\n",
              "    <tr>\n",
              "      <th>0</th>\n",
              "      <td>1</td>\n",
              "      <td>2</td>\n",
              "      <td>3</td>\n",
              "      <td>4</td>\n",
              "    </tr>\n",
              "  </tbody>\n",
              "</table>\n",
              "</div>"
            ],
            "text/plain": [
              "   ticker  close price  market cap  buy qty\n",
              "0       1            2           3        4"
            ]
          },
          "metadata": {
            "tags": []
          },
          "execution_count": 47
        }
      ]
    },
    {
      "cell_type": "code",
      "metadata": {
        "colab": {
          "base_uri": "https://localhost:8080/",
          "height": 107
        },
        "id": "EA52FSDplObt",
        "outputId": "f60876b9-9ddd-4ab3-d6f4-ff9fd8f65351"
      },
      "source": [
        "final_df.append(\r\n",
        "    pd.Series(\r\n",
        "        [ticker,\r\n",
        "         close,\r\n",
        "         mc,\r\n",
        "         'n/a'\r\n",
        "        ],\r\n",
        "    index = ct\r\n",
        "    ),\r\n",
        "    ignore_index=True\r\n",
        ")"
      ],
      "execution_count": 48,
      "outputs": [
        {
          "output_type": "execute_result",
          "data": {
            "text/html": [
              "<div>\n",
              "<style scoped>\n",
              "    .dataframe tbody tr th:only-of-type {\n",
              "        vertical-align: middle;\n",
              "    }\n",
              "\n",
              "    .dataframe tbody tr th {\n",
              "        vertical-align: top;\n",
              "    }\n",
              "\n",
              "    .dataframe thead th {\n",
              "        text-align: right;\n",
              "    }\n",
              "</style>\n",
              "<table border=\"1\" class=\"dataframe\">\n",
              "  <thead>\n",
              "    <tr style=\"text-align: right;\">\n",
              "      <th></th>\n",
              "      <th>ticker</th>\n",
              "      <th>close price</th>\n",
              "      <th>market cap</th>\n",
              "      <th>buy qty</th>\n",
              "    </tr>\n",
              "  </thead>\n",
              "  <tbody>\n",
              "    <tr>\n",
              "      <th>0</th>\n",
              "      <td>1</td>\n",
              "      <td>2.00</td>\n",
              "      <td>3</td>\n",
              "      <td>4</td>\n",
              "    </tr>\n",
              "    <tr>\n",
              "      <th>1</th>\n",
              "      <td>MSFT</td>\n",
              "      <td>233.52</td>\n",
              "      <td>1750761594218</td>\n",
              "      <td>n/a</td>\n",
              "    </tr>\n",
              "  </tbody>\n",
              "</table>\n",
              "</div>"
            ],
            "text/plain": [
              "  ticker  close price     market cap buy qty\n",
              "0      1         2.00              3       4\n",
              "1   MSFT       233.52  1750761594218     n/a"
            ]
          },
          "metadata": {
            "tags": []
          },
          "execution_count": 48
        }
      ]
    },
    {
      "cell_type": "code",
      "metadata": {
        "id": "SFucaiG2hr20"
      },
      "source": [
        "# 52:49\n",
        "# JavaScript Object Notation\n",
        "df = pd.read_json(request)\n",
        "df\n",
        "# need API key to function!!!"
      ],
      "execution_count": null,
      "outputs": []
    }
  ]
}