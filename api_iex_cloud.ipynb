{
  "nbformat": 4,
  "nbformat_minor": 0,
  "metadata": {
    "colab": {
      "name": "api_iex_cloud.ipynb",
      "provenance": [],
      "mount_file_id": "1jGr1O1E_0Jpdf7Aw06sI2wEMRicEQ0jV",
      "authorship_tag": "ABX9TyPofYHYR5+/cuUKX6VhqN9D",
      "include_colab_link": true
    },
    "kernelspec": {
      "name": "python3",
      "display_name": "Python 3"
    }
  },
  "cells": [
    {
      "cell_type": "markdown",
      "metadata": {
        "id": "view-in-github",
        "colab_type": "text"
      },
      "source": [
        "<a href=\"https://colab.research.google.com/github/iron59zug/YFapi/blob/master/api_iex_cloud.ipynb\" target=\"_parent\"><img src=\"https://colab.research.google.com/assets/colab-badge.svg\" alt=\"Open In Colab\"/></a>"
      ]
    },
    {
      "cell_type": "code",
      "metadata": {
        "id": "PC75Irk-Z6uQ",
        "colab": {
          "base_uri": "https://localhost:8080/",
          "height": 132
        },
        "outputId": "56596638-badd-48fa-de7a-05181daaf61e"
      },
      "source": [
        "# calling to API by a request w/ interpolated values\n",
        "# IEX Cloud API not free of charge\n",
        "# video course from freeCodeCamp (4 dec 2020) https://www.youtube.com/watch?v=xfzGZB4HhEE\n",
        "# model file\n",
        "\n",
        "import math\n",
        "import numpy as np # coded in C, example of Python as glue for other faster languages\n",
        "import pandas as pd # to treat tabular data eg from csv\n",
        "import requests # for http communication\n",
        "#import XlsxWriter # save output in excel not working in colab? "
      ],
      "execution_count": 44,
      "outputs": [
        {
          "output_type": "error",
          "ename": "SyntaxError",
          "evalue": "ignored",
          "traceback": [
            "\u001b[0;36m  File \u001b[0;32m\"<ipython-input-44-af5841f6ef64>\"\u001b[0;36m, line \u001b[0;32m5\u001b[0m\n\u001b[0;31m    pip install XlsxWriter\u001b[0m\n\u001b[0m              ^\u001b[0m\n\u001b[0;31mSyntaxError\u001b[0m\u001b[0;31m:\u001b[0m invalid syntax\n"
          ]
        }
      ]
    },
    {
      "cell_type": "code",
      "metadata": {
        "id": "VmM4bb53bp_S",
        "colab": {
          "base_uri": "https://localhost:8080/",
          "height": 35
        },
        "outputId": "64ff0a6a-b7f6-40c3-ae4c-131215db5e34"
      },
      "source": [
        "a1 = 'MSFT' # 1975\n",
        "a2 = 'APPL' # 1976\n",
        "a3 = 'AMZN' # 1994\n",
        "a4 = 'GOOGL' # 1998; Alphabet's A share has 1 vote; C share \"GOOG\" has no vote\n",
        "a5 = 'FB' # 2004\n",
        "\n",
        "ticker = a1 # choose one asset name that will pass to ticker, or:\n",
        "tickers = [a1, a2, a3, a4, a5] # use a list of tickers\n",
        "tstring = ','.join(tickers) # serialize list into string\n",
        "\n",
        "tstring"
      ],
      "execution_count": 19,
      "outputs": [
        {
          "output_type": "execute_result",
          "data": {
            "application/vnd.google.colaboratory.intrinsic+json": {
              "type": "string"
            },
            "text/plain": [
              "'MSFT,APPL,AMZN,GOOGL,FB'"
            ]
          },
          "metadata": {
            "tags": []
          },
          "execution_count": 19
        }
      ]
    },
    {
      "cell_type": "code",
      "metadata": {
        "colab": {
          "base_uri": "https://localhost:8080/"
        },
        "id": "1I6S7vpCb0Cv",
        "outputId": "6f710e87-9402-4ca4-9db4-65cca78da9c3"
      },
      "source": [
        "endpoint = 'chart'\n",
        "period = '1y'\n",
        "KEY = 'Tpk_059b97af715d417d9f49f50b51b1c448' # free IEX Cloud API key for testing\n",
        "''' for API key stored in key.py file\n",
        "    (IEX_CLOUD_API_TOKEN = 'Tpk_059b97af715d417d9f49f50b51b1c448')\n",
        "from key import IEX_CLOUD_API_TOKEN\n",
        "'''\n",
        "\n",
        "# request = f'https://cloud.iexapis.com/stable/stock/market/batch?symbols={string}&types={endpoint}&range={period}&token={KEY}' # non-free api\n",
        "request = f'https://sandbox.iexapis.com/stable/stock/{a1}/quote?token={KEY}' # free, not real data #fstring\n",
        "df = requests.get(request) # get/post/put/delete\n",
        "print (df.status_code == 200) # check url if 404"
      ],
      "execution_count": 20,
      "outputs": [
        {
          "output_type": "stream",
          "text": [
            "True\n"
          ],
          "name": "stdout"
        }
      ]
    },
    {
      "cell_type": "code",
      "metadata": {
        "id": "gqu_VE2BgpsG"
      },
      "source": [
        "df = requests.get(request).json()\n",
        "#df # testing whether receive info eg. vol/hogh/low/close..."
      ],
      "execution_count": 21,
      "outputs": []
    },
    {
      "cell_type": "code",
      "metadata": {
        "colab": {
          "base_uri": "https://localhost:8080/"
        },
        "id": "curFyQl1jKBe",
        "outputId": "95bacefc-e21c-4f36-f5dc-2b9607350682"
      },
      "source": [
        "close = df['close']\n",
        "mc = df['marketCap']\n",
        "close,mc"
      ],
      "execution_count": 22,
      "outputs": [
        {
          "output_type": "execute_result",
          "data": {
            "text/plain": [
              "(None, 1860847759019)"
            ]
          },
          "metadata": {
            "tags": []
          },
          "execution_count": 22
        }
      ]
    },
    {
      "cell_type": "code",
      "metadata": {
        "colab": {
          "base_uri": "https://localhost:8080/",
          "height": 77
        },
        "id": "ttFhWkPlj9Rg",
        "outputId": "4245e8de-fb61-468e-ab41-728f35314fcc"
      },
      "source": [
        "ct = ['ticker', 'close price', 'market cap', 'buy qty']\n",
        "final_df = pd.DataFrame([[1,2,3,4]], columns = ct)\n",
        "final_df"
      ],
      "execution_count": 23,
      "outputs": [
        {
          "output_type": "execute_result",
          "data": {
            "text/html": [
              "<div>\n",
              "<style scoped>\n",
              "    .dataframe tbody tr th:only-of-type {\n",
              "        vertical-align: middle;\n",
              "    }\n",
              "\n",
              "    .dataframe tbody tr th {\n",
              "        vertical-align: top;\n",
              "    }\n",
              "\n",
              "    .dataframe thead th {\n",
              "        text-align: right;\n",
              "    }\n",
              "</style>\n",
              "<table border=\"1\" class=\"dataframe\">\n",
              "  <thead>\n",
              "    <tr style=\"text-align: right;\">\n",
              "      <th></th>\n",
              "      <th>ticker</th>\n",
              "      <th>close price</th>\n",
              "      <th>market cap</th>\n",
              "      <th>buy qty</th>\n",
              "    </tr>\n",
              "  </thead>\n",
              "  <tbody>\n",
              "    <tr>\n",
              "      <th>0</th>\n",
              "      <td>1</td>\n",
              "      <td>2</td>\n",
              "      <td>3</td>\n",
              "      <td>4</td>\n",
              "    </tr>\n",
              "  </tbody>\n",
              "</table>\n",
              "</div>"
            ],
            "text/plain": [
              "   ticker  close price  market cap  buy qty\n",
              "0       1            2           3        4"
            ]
          },
          "metadata": {
            "tags": []
          },
          "execution_count": 23
        }
      ]
    },
    {
      "cell_type": "code",
      "metadata": {
        "colab": {
          "base_uri": "https://localhost:8080/",
          "height": 107
        },
        "id": "EA52FSDplObt",
        "outputId": "7d635ea9-55e9-43c1-de1f-42e344b705d0"
      },
      "source": [
        "final_df.append(\n",
        "    pd.Series(\n",
        "        [ticker,\n",
        "         close,\n",
        "         mc,\n",
        "         'n/a'\n",
        "        ],\n",
        "    index = ct\n",
        "    ),\n",
        "    ignore_index=True # necessary whenever use append???\n",
        ")"
      ],
      "execution_count": 24,
      "outputs": [
        {
          "output_type": "execute_result",
          "data": {
            "text/html": [
              "<div>\n",
              "<style scoped>\n",
              "    .dataframe tbody tr th:only-of-type {\n",
              "        vertical-align: middle;\n",
              "    }\n",
              "\n",
              "    .dataframe tbody tr th {\n",
              "        vertical-align: top;\n",
              "    }\n",
              "\n",
              "    .dataframe thead th {\n",
              "        text-align: right;\n",
              "    }\n",
              "</style>\n",
              "<table border=\"1\" class=\"dataframe\">\n",
              "  <thead>\n",
              "    <tr style=\"text-align: right;\">\n",
              "      <th></th>\n",
              "      <th>ticker</th>\n",
              "      <th>close price</th>\n",
              "      <th>market cap</th>\n",
              "      <th>buy qty</th>\n",
              "    </tr>\n",
              "  </thead>\n",
              "  <tbody>\n",
              "    <tr>\n",
              "      <th>0</th>\n",
              "      <td>1</td>\n",
              "      <td>2</td>\n",
              "      <td>3</td>\n",
              "      <td>4</td>\n",
              "    </tr>\n",
              "    <tr>\n",
              "      <th>1</th>\n",
              "      <td>MSFT</td>\n",
              "      <td>None</td>\n",
              "      <td>1860847759019</td>\n",
              "      <td>n/a</td>\n",
              "    </tr>\n",
              "  </tbody>\n",
              "</table>\n",
              "</div>"
            ],
            "text/plain": [
              "  ticker close price     market cap buy qty\n",
              "0      1           2              3       4\n",
              "1   MSFT        None  1860847759019     n/a"
            ]
          },
          "metadata": {
            "tags": []
          },
          "execution_count": 24
        }
      ]
    },
    {
      "cell_type": "code",
      "metadata": {
        "colab": {
          "base_uri": "https://localhost:8080/"
        },
        "id": "Z4AMRcHoamE5",
        "outputId": "4366bde3-ffc7-4521-9cdc-22e6694e60c7"
      },
      "source": [
        "# using dynamic input from certain API would be ideal; using static list for now\n",
        "from google.colab import drive\n",
        "drive.mount('/content/drive')\n",
        "\n",
        "# load static ticker list\n",
        "tlist = pd.read_csv('/content/drive/MyDrive/sp_500_stocks.csv')\n"
      ],
      "execution_count": 25,
      "outputs": [
        {
          "output_type": "stream",
          "text": [
            "Drive already mounted at /content/drive; to attempt to forcibly remount, call drive.mount(\"/content/drive\", force_remount=True).\n"
          ],
          "name": "stdout"
        }
      ]
    },
    {
      "cell_type": "code",
      "metadata": {
        "colab": {
          "base_uri": "https://localhost:8080/",
          "height": 197
        },
        "id": "87Yb_3U1dzVJ",
        "outputId": "750d36c9-cdf3-4e7f-b48d-53615a63b96d"
      },
      "source": [
        "final_df = pd.DataFrame(columns = ct)\n",
        "for ticker in tlist['Ticker'][:5]: # check first 5 tickers only\n",
        "  request = f'https://sandbox.iexapis.com/stable/stock/{ticker}/quote?token={KEY}' \n",
        "  df = requests.get(request).json() # single api request via http = slow!\n",
        "  final_df = final_df.append(\n",
        "      pd.Series(\n",
        "          [ticker,\n",
        "           df['latestPrice'],\n",
        "           df['marketCap'],\n",
        "           'n/a'           \n",
        "          ],\n",
        "          index = ct),\n",
        "      ignore_index = True\n",
        "  )\n",
        "\n",
        "#del fdf\n",
        "final_df"
      ],
      "execution_count": 26,
      "outputs": [
        {
          "output_type": "execute_result",
          "data": {
            "text/html": [
              "<div>\n",
              "<style scoped>\n",
              "    .dataframe tbody tr th:only-of-type {\n",
              "        vertical-align: middle;\n",
              "    }\n",
              "\n",
              "    .dataframe tbody tr th {\n",
              "        vertical-align: top;\n",
              "    }\n",
              "\n",
              "    .dataframe thead th {\n",
              "        text-align: right;\n",
              "    }\n",
              "</style>\n",
              "<table border=\"1\" class=\"dataframe\">\n",
              "  <thead>\n",
              "    <tr style=\"text-align: right;\">\n",
              "      <th></th>\n",
              "      <th>ticker</th>\n",
              "      <th>close price</th>\n",
              "      <th>market cap</th>\n",
              "      <th>buy qty</th>\n",
              "    </tr>\n",
              "  </thead>\n",
              "  <tbody>\n",
              "    <tr>\n",
              "      <th>0</th>\n",
              "      <td>A</td>\n",
              "      <td>130.807</td>\n",
              "      <td>39909415616</td>\n",
              "      <td>n/a</td>\n",
              "    </tr>\n",
              "    <tr>\n",
              "      <th>1</th>\n",
              "      <td>AAL</td>\n",
              "      <td>24.190</td>\n",
              "      <td>15487892066</td>\n",
              "      <td>n/a</td>\n",
              "    </tr>\n",
              "    <tr>\n",
              "      <th>2</th>\n",
              "      <td>AAP</td>\n",
              "      <td>193.170</td>\n",
              "      <td>12276682449</td>\n",
              "      <td>n/a</td>\n",
              "    </tr>\n",
              "    <tr>\n",
              "      <th>3</th>\n",
              "      <td>AAPL</td>\n",
              "      <td>124.720</td>\n",
              "      <td>2161141062212</td>\n",
              "      <td>n/a</td>\n",
              "    </tr>\n",
              "    <tr>\n",
              "      <th>4</th>\n",
              "      <td>ABBV</td>\n",
              "      <td>109.600</td>\n",
              "      <td>200131344644</td>\n",
              "      <td>n/a</td>\n",
              "    </tr>\n",
              "  </tbody>\n",
              "</table>\n",
              "</div>"
            ],
            "text/plain": [
              "  ticker  close price     market cap buy qty\n",
              "0      A      130.807    39909415616     n/a\n",
              "1    AAL       24.190    15487892066     n/a\n",
              "2    AAP      193.170    12276682449     n/a\n",
              "3   AAPL      124.720  2161141062212     n/a\n",
              "4   ABBV      109.600   200131344644     n/a"
            ]
          },
          "metadata": {
            "tags": []
          },
          "execution_count": 26
        }
      ]
    },
    {
      "cell_type": "code",
      "metadata": {
        "id": "OJHlEipKczvN"
      },
      "source": [
        "def chunks(lst, n): # function to divide ticker list for multiple api request\n",
        "  for i in range(0, len(lst),n):\n",
        "    yield lst[i:i + n]\n",
        "\n",
        "tgroups = list(chunks(tlist['Ticker'], 100))\n",
        "tstrings = []\n",
        "for i in range(0, len(tgroups)):\n",
        "  # print(tgroups[i])\n",
        "  tstrings.append(','.join(tgroups[i]))\n",
        "  # print(tstrings[i])\n",
        "\n",
        "final_df = pd.DataFrame(columns = ct)\n",
        "for tstring in tstrings:\n",
        "  batch_api_call_url = f'https://sandbox.iexapis.com/stable/stock/market/batch?symbols={tstring}&types=quote&token={KEY}'\n",
        "  data = requests.get(batch_api_call_url).json() \n",
        "  #print(data.status_code) # for testing before applying .json(), should be 200\n",
        "  for ticker in tstring.split(','):\n",
        "    #print(ticker)\n",
        "    final_df = final_df.append(\n",
        "        pd.Series([\n",
        "                   ticker,\n",
        "                   data[ticker]['quote']['latestPrice'],\n",
        "                   data[ticker]['quote']['marketCap'],\n",
        "                   'n/a'\n",
        "        ],\n",
        "        index = ct ),\n",
        "      ignore_index = True\n",
        "    ) # multiple parsing instead of single request\n",
        "  final_df\n"
      ],
      "execution_count": 27,
      "outputs": []
    },
    {
      "cell_type": "code",
      "metadata": {
        "colab": {
          "base_uri": "https://localhost:8080/",
          "height": 406
        },
        "id": "wMENL-3RrjDd",
        "outputId": "e296c205-bfb3-4934-8314-574005b1baa1"
      },
      "source": [
        "final_df"
      ],
      "execution_count": 28,
      "outputs": [
        {
          "output_type": "execute_result",
          "data": {
            "text/html": [
              "<div>\n",
              "<style scoped>\n",
              "    .dataframe tbody tr th:only-of-type {\n",
              "        vertical-align: middle;\n",
              "    }\n",
              "\n",
              "    .dataframe tbody tr th {\n",
              "        vertical-align: top;\n",
              "    }\n",
              "\n",
              "    .dataframe thead th {\n",
              "        text-align: right;\n",
              "    }\n",
              "</style>\n",
              "<table border=\"1\" class=\"dataframe\">\n",
              "  <thead>\n",
              "    <tr style=\"text-align: right;\">\n",
              "      <th></th>\n",
              "      <th>ticker</th>\n",
              "      <th>close price</th>\n",
              "      <th>market cap</th>\n",
              "      <th>buy qty</th>\n",
              "    </tr>\n",
              "  </thead>\n",
              "  <tbody>\n",
              "    <tr>\n",
              "      <th>0</th>\n",
              "      <td>A</td>\n",
              "      <td>128.566</td>\n",
              "      <td>40156722082</td>\n",
              "      <td>n/a</td>\n",
              "    </tr>\n",
              "    <tr>\n",
              "      <th>1</th>\n",
              "      <td>AAL</td>\n",
              "      <td>24.657</td>\n",
              "      <td>15762755512</td>\n",
              "      <td>n/a</td>\n",
              "    </tr>\n",
              "    <tr>\n",
              "      <th>2</th>\n",
              "      <td>AAP</td>\n",
              "      <td>191.880</td>\n",
              "      <td>12420617139</td>\n",
              "      <td>n/a</td>\n",
              "    </tr>\n",
              "    <tr>\n",
              "      <th>3</th>\n",
              "      <td>AAPL</td>\n",
              "      <td>124.470</td>\n",
              "      <td>2097292378113</td>\n",
              "      <td>n/a</td>\n",
              "    </tr>\n",
              "    <tr>\n",
              "      <th>4</th>\n",
              "      <td>ABBV</td>\n",
              "      <td>109.800</td>\n",
              "      <td>197151029590</td>\n",
              "      <td>n/a</td>\n",
              "    </tr>\n",
              "    <tr>\n",
              "      <th>...</th>\n",
              "      <td>...</td>\n",
              "      <td>...</td>\n",
              "      <td>...</td>\n",
              "      <td>...</td>\n",
              "    </tr>\n",
              "    <tr>\n",
              "      <th>500</th>\n",
              "      <td>YUM</td>\n",
              "      <td>114.437</td>\n",
              "      <td>33633276709</td>\n",
              "      <td>n/a</td>\n",
              "    </tr>\n",
              "    <tr>\n",
              "      <th>501</th>\n",
              "      <td>ZBH</td>\n",
              "      <td>164.200</td>\n",
              "      <td>35401864292</td>\n",
              "      <td>n/a</td>\n",
              "    </tr>\n",
              "    <tr>\n",
              "      <th>502</th>\n",
              "      <td>ZBRA</td>\n",
              "      <td>501.610</td>\n",
              "      <td>26679280042</td>\n",
              "      <td>n/a</td>\n",
              "    </tr>\n",
              "    <tr>\n",
              "      <th>503</th>\n",
              "      <td>ZION</td>\n",
              "      <td>57.080</td>\n",
              "      <td>9434670134</td>\n",
              "      <td>n/a</td>\n",
              "    </tr>\n",
              "    <tr>\n",
              "      <th>504</th>\n",
              "      <td>ZTS</td>\n",
              "      <td>158.900</td>\n",
              "      <td>75940277328</td>\n",
              "      <td>n/a</td>\n",
              "    </tr>\n",
              "  </tbody>\n",
              "</table>\n",
              "<p>505 rows × 4 columns</p>\n",
              "</div>"
            ],
            "text/plain": [
              "    ticker  close price     market cap buy qty\n",
              "0        A      128.566    40156722082     n/a\n",
              "1      AAL       24.657    15762755512     n/a\n",
              "2      AAP      191.880    12420617139     n/a\n",
              "3     AAPL      124.470  2097292378113     n/a\n",
              "4     ABBV      109.800   197151029590     n/a\n",
              "..     ...          ...            ...     ...\n",
              "500    YUM      114.437    33633276709     n/a\n",
              "501    ZBH      164.200    35401864292     n/a\n",
              "502   ZBRA      501.610    26679280042     n/a\n",
              "503   ZION       57.080     9434670134     n/a\n",
              "504    ZTS      158.900    75940277328     n/a\n",
              "\n",
              "[505 rows x 4 columns]"
            ]
          },
          "metadata": {
            "tags": []
          },
          "execution_count": 28
        }
      ]
    },
    {
      "cell_type": "code",
      "metadata": {
        "id": "SFucaiG2hr20",
        "colab": {
          "base_uri": "https://localhost:8080/",
          "height": 442
        },
        "outputId": "0663c13d-c778-42b9-ca9f-79574a63104b"
      },
      "source": [
        "# 1:11:00 from here on no longer objective of learning to use api, just finishing the video course\n",
        "psize = input('set portfolio size:')\n",
        "try:\n",
        "  val = float(psize)\n",
        "  print(val)\n",
        "except ValueError:\n",
        "  print('error: must be an integer')\n",
        "  psize = input('set portfolio size:')\n",
        "  val = float(psize)\n",
        "\n",
        "position = val/len(final_df.index)\n",
        "#print(position)\n",
        "#AAPL2buy = position/500 # concept of determining qty to buy\n",
        "#print(math.floor(AAPL2buy))\n",
        "\n",
        "for i in range(0, len(final_df.index)):\n",
        "  final_df.loc[i, 'buy qty'] = math.floor(position/final_df.loc[i, 'close price'])\n",
        "\n",
        "final_df"
      ],
      "execution_count": 40,
      "outputs": [
        {
          "output_type": "stream",
          "text": [
            "set portfolio size:1000000\n",
            "1000000.0\n"
          ],
          "name": "stdout"
        },
        {
          "output_type": "execute_result",
          "data": {
            "text/html": [
              "<div>\n",
              "<style scoped>\n",
              "    .dataframe tbody tr th:only-of-type {\n",
              "        vertical-align: middle;\n",
              "    }\n",
              "\n",
              "    .dataframe tbody tr th {\n",
              "        vertical-align: top;\n",
              "    }\n",
              "\n",
              "    .dataframe thead th {\n",
              "        text-align: right;\n",
              "    }\n",
              "</style>\n",
              "<table border=\"1\" class=\"dataframe\">\n",
              "  <thead>\n",
              "    <tr style=\"text-align: right;\">\n",
              "      <th></th>\n",
              "      <th>ticker</th>\n",
              "      <th>close price</th>\n",
              "      <th>market cap</th>\n",
              "      <th>buy qty</th>\n",
              "    </tr>\n",
              "  </thead>\n",
              "  <tbody>\n",
              "    <tr>\n",
              "      <th>0</th>\n",
              "      <td>A</td>\n",
              "      <td>128.566</td>\n",
              "      <td>40156722082</td>\n",
              "      <td>15</td>\n",
              "    </tr>\n",
              "    <tr>\n",
              "      <th>1</th>\n",
              "      <td>AAL</td>\n",
              "      <td>24.657</td>\n",
              "      <td>15762755512</td>\n",
              "      <td>80</td>\n",
              "    </tr>\n",
              "    <tr>\n",
              "      <th>2</th>\n",
              "      <td>AAP</td>\n",
              "      <td>191.880</td>\n",
              "      <td>12420617139</td>\n",
              "      <td>10</td>\n",
              "    </tr>\n",
              "    <tr>\n",
              "      <th>3</th>\n",
              "      <td>AAPL</td>\n",
              "      <td>124.470</td>\n",
              "      <td>2097292378113</td>\n",
              "      <td>15</td>\n",
              "    </tr>\n",
              "    <tr>\n",
              "      <th>4</th>\n",
              "      <td>ABBV</td>\n",
              "      <td>109.800</td>\n",
              "      <td>197151029590</td>\n",
              "      <td>18</td>\n",
              "    </tr>\n",
              "    <tr>\n",
              "      <th>...</th>\n",
              "      <td>...</td>\n",
              "      <td>...</td>\n",
              "      <td>...</td>\n",
              "      <td>...</td>\n",
              "    </tr>\n",
              "    <tr>\n",
              "      <th>500</th>\n",
              "      <td>YUM</td>\n",
              "      <td>114.437</td>\n",
              "      <td>33633276709</td>\n",
              "      <td>17</td>\n",
              "    </tr>\n",
              "    <tr>\n",
              "      <th>501</th>\n",
              "      <td>ZBH</td>\n",
              "      <td>164.200</td>\n",
              "      <td>35401864292</td>\n",
              "      <td>12</td>\n",
              "    </tr>\n",
              "    <tr>\n",
              "      <th>502</th>\n",
              "      <td>ZBRA</td>\n",
              "      <td>501.610</td>\n",
              "      <td>26679280042</td>\n",
              "      <td>3</td>\n",
              "    </tr>\n",
              "    <tr>\n",
              "      <th>503</th>\n",
              "      <td>ZION</td>\n",
              "      <td>57.080</td>\n",
              "      <td>9434670134</td>\n",
              "      <td>34</td>\n",
              "    </tr>\n",
              "    <tr>\n",
              "      <th>504</th>\n",
              "      <td>ZTS</td>\n",
              "      <td>158.900</td>\n",
              "      <td>75940277328</td>\n",
              "      <td>12</td>\n",
              "    </tr>\n",
              "  </tbody>\n",
              "</table>\n",
              "<p>505 rows × 4 columns</p>\n",
              "</div>"
            ],
            "text/plain": [
              "    ticker  close price     market cap buy qty\n",
              "0        A      128.566    40156722082      15\n",
              "1      AAL       24.657    15762755512      80\n",
              "2      AAP      191.880    12420617139      10\n",
              "3     AAPL      124.470  2097292378113      15\n",
              "4     ABBV      109.800   197151029590      18\n",
              "..     ...          ...            ...     ...\n",
              "500    YUM      114.437    33633276709      17\n",
              "501    ZBH      164.200    35401864292      12\n",
              "502   ZBRA      501.610    26679280042       3\n",
              "503   ZION       57.080     9434670134      34\n",
              "504    ZTS      158.900    75940277328      12\n",
              "\n",
              "[505 rows x 4 columns]"
            ]
          },
          "metadata": {
            "tags": []
          },
          "execution_count": 40
        }
      ]
    },
    {
      "cell_type": "code",
      "metadata": {
        "id": "ZZTQ6Jbl-jV0"
      },
      "source": [
        "# 1:25:00 testing xls(x) output\n",
        "writer = pd.ExcelWriter('output.xlsx')\n",
        "final_df.to_excel(writer, 'qty2buy', index=False)"
      ],
      "execution_count": 46,
      "outputs": []
    },
    {
      "cell_type": "code",
      "metadata": {
        "colab": {
          "base_uri": "https://localhost:8080/",
          "height": 35
        },
        "id": "tl8Xs9JYwdeE",
        "outputId": "a3ba48ca-7759-4dd7-fe3c-cbe7b4d29f96"
      },
      "source": [
        "\n",
        "\n",
        "\"\"\"\n",
        "final_dataframe = fnl_df\n",
        "portfolio_size = psize\n",
        "position_size = position\n",
        "symbol = ticker\n",
        "symbol_groups = tgroups\n",
        "symbol_strings = tstrings\n",
        "\"\"\"\n",
        "\n",
        "\"\"\"\n",
        "# JavaScript Object Notation\n",
        "df = pd.read_json(request)\n",
        "df\n",
        "# need API key to function!!!\n",
        "\"\"\""
      ],
      "execution_count": 47,
      "outputs": [
        {
          "output_type": "execute_result",
          "data": {
            "application/vnd.google.colaboratory.intrinsic+json": {
              "type": "string"
            },
            "text/plain": [
              "'\\n# JavaScript Object Notation\\ndf = pd.read_json(request)\\ndf\\n# need API key to function!!!\\n'"
            ]
          },
          "metadata": {
            "tags": []
          },
          "execution_count": 47
        }
      ]
    }
  ]
}