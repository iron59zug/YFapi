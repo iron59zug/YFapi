{
  "nbformat": 4,
  "nbformat_minor": 0,
  "metadata": {
    "colab": {
      "name": "api_iex_cloud.ipynb",
      "provenance": [],
      "mount_file_id": "1jGr1O1E_0Jpdf7Aw06sI2wEMRicEQ0jV",
      "authorship_tag": "ABX9TyM57wEMmmdAb6/6jli7GOr6",
      "include_colab_link": true
    },
    "kernelspec": {
      "name": "python3",
      "display_name": "Python 3"
    }
  },
  "cells": [
    {
      "cell_type": "markdown",
      "metadata": {
        "id": "view-in-github",
        "colab_type": "text"
      },
      "source": [
        "<a href=\"https://colab.research.google.com/github/iron59zug/YFapi/blob/master/api_iex_cloud.ipynb\" target=\"_parent\"><img src=\"https://colab.research.google.com/assets/colab-badge.svg\" alt=\"Open In Colab\"/></a>"
      ]
    },
    {
      "cell_type": "code",
      "metadata": {
        "id": "PC75Irk-Z6uQ"
      },
      "source": [
        "# calling to API by a request w/ interpolated values\n",
        "# IEX Cloud API not free of charge\n",
        "# video course from freeCodeCamp (4 dec 2020) https://www.youtube.com/watch?v=xfzGZB4HhEE\n",
        "# model file\n",
        "\n",
        "import math\n",
        "import numpy as np # coded in C, example of Python as glue for other faster languages\n",
        "import pandas as pd # to treat tabular data eg from csv\n",
        "import requests # for http communication\n",
        "# not working in colab? import xlsxwriter # save output in excel"
      ],
      "execution_count": 52,
      "outputs": []
    },
    {
      "cell_type": "code",
      "metadata": {
        "id": "VmM4bb53bp_S",
        "colab": {
          "base_uri": "https://localhost:8080/",
          "height": 35
        },
        "outputId": "a19c6b45-0e3c-499d-9d53-2d5632d0f9ab"
      },
      "source": [
        "a1 = 'MSFT' # 1975\n",
        "a2 = 'APPL' # 1976\n",
        "a3 = 'AMZN' # 1994\n",
        "a4 = 'GOOGL' # 1998; Alphabet's A share has 1 vote; C share \"GOOG\" has no vote\n",
        "a5 = 'FB' # 2004\n",
        "\n",
        "ticker = a1 # choose one asset name that will pass to ticker, or:\n",
        "tickers = [a1, a2, a3, a4, a5] # use a list of tickers\n",
        "tstring = ','.join(tickers) # serialize list into string\n",
        "\n",
        "tstring"
      ],
      "execution_count": 53,
      "outputs": [
        {
          "output_type": "execute_result",
          "data": {
            "application/vnd.google.colaboratory.intrinsic+json": {
              "type": "string"
            },
            "text/plain": [
              "'MSFT,APPL,AMZN,GOOGL,FB'"
            ]
          },
          "metadata": {
            "tags": []
          },
          "execution_count": 53
        }
      ]
    },
    {
      "cell_type": "code",
      "metadata": {
        "colab": {
          "base_uri": "https://localhost:8080/"
        },
        "id": "1I6S7vpCb0Cv",
        "outputId": "1bfc205a-b307-4f6d-b4f4-b2faa8837477"
      },
      "source": [
        "endpoint = 'chart'\r\n",
        "period = '1y'\r\n",
        "KEY = 'Tpk_059b97af715d417d9f49f50b51b1c448' # free IEX Cloud API key for testing\r\n",
        "''' for API key stored in key.py file\r\n",
        "    (IEX_CLOUD_API_TOKEN = 'Tpk_059b97af715d417d9f49f50b51b1c448')\r\n",
        "from key import IEX_CLOUD_API_TOKEN\r\n",
        "'''\r\n",
        "\r\n",
        "# request = f'https://cloud.iexapis.com/stable/stock/market/batch?symbols={string}&types={endpoint}&range={period}&token={KEY}' # non-free api\r\n",
        "request = f'https://sandbox.iexapis.com/stable/stock/{a1}/quote?token={KEY}' # free, not real data #fstring\r\n",
        "df = requests.get(request)# get/post/put/delete\r\n",
        "print (df.status_code == 200) # check url if 404"
      ],
      "execution_count": 54,
      "outputs": [
        {
          "output_type": "stream",
          "text": [
            "True\n"
          ],
          "name": "stdout"
        }
      ]
    },
    {
      "cell_type": "code",
      "metadata": {
        "colab": {
          "base_uri": "https://localhost:8080/"
        },
        "id": "gqu_VE2BgpsG",
        "outputId": "da183f82-375a-47e0-b513-035c061f944e"
      },
      "source": [
        "df = requests.get(request).json()\r\n",
        "df"
      ],
      "execution_count": 55,
      "outputs": [
        {
          "output_type": "execute_result",
          "data": {
            "text/plain": [
              "{'avgTotalVolume': 26860888,\n",
              " 'calculationPrice': 'close',\n",
              " 'change': 3.45,\n",
              " 'changePercent': 0.0154,\n",
              " 'close': 234.32,\n",
              " 'closeSource': 'flfoicia',\n",
              " 'closeTime': 1646574116382,\n",
              " 'companyName': 'Microsoft Corporation',\n",
              " 'delayedPrice': 240.22,\n",
              " 'delayedPriceTime': 1671328033007,\n",
              " 'extendedChange': -0.39,\n",
              " 'extendedChangePercent': -0.00168,\n",
              " 'extendedPrice': 238,\n",
              " 'extendedPriceTime': 1639220430625,\n",
              " 'high': 241.06,\n",
              " 'highSource': 'yil emrea1eidtd ecnp u5',\n",
              " 'highTime': 1645575037952,\n",
              " 'iexAskPrice': None,\n",
              " 'iexAskSize': None,\n",
              " 'iexBidPrice': None,\n",
              " 'iexBidSize': None,\n",
              " 'iexClose': 237.4,\n",
              " 'iexCloseTime': 1615988816270,\n",
              " 'iexLastUpdated': None,\n",
              " 'iexMarketPercent': None,\n",
              " 'iexOpen': 238.5,\n",
              " 'iexOpenTime': 1655585219808,\n",
              " 'iexRealtimePrice': None,\n",
              " 'iexRealtimeSize': None,\n",
              " 'iexVolume': None,\n",
              " 'isUSMarketOpen': False,\n",
              " 'lastTradeTime': 1678286058647,\n",
              " 'latestPrice': 236.24,\n",
              " 'latestSource': 'Close',\n",
              " 'latestTime': 'February 26, 2021',\n",
              " 'latestUpdate': 1652078657559,\n",
              " 'latestVolume': 38726336,\n",
              " 'low': 239.21,\n",
              " 'lowSource': ' d51radneclie timyuee p',\n",
              " 'lowTime': 1626974106598,\n",
              " 'marketCap': 1814243813871,\n",
              " 'oddLotDelayedPrice': 235.5,\n",
              " 'oddLotDelayedPriceTime': 1659714652460,\n",
              " 'open': 240.5,\n",
              " 'openSource': 'fificola',\n",
              " 'openTime': 1629634501639,\n",
              " 'peRatio': 35.73,\n",
              " 'previousClose': 230.86,\n",
              " 'previousVolume': 41408485,\n",
              " 'primaryExchange': 'MLAOAN/KTESRSLEACGE N )DS TLAG(BQ',\n",
              " 'symbol': 'MSFT',\n",
              " 'volume': 38688636,\n",
              " 'week52High': 245.82,\n",
              " 'week52Low': 136.92,\n",
              " 'ytdChange': 0.06377081154457828}"
            ]
          },
          "metadata": {
            "tags": []
          },
          "execution_count": 55
        }
      ]
    },
    {
      "cell_type": "code",
      "metadata": {
        "colab": {
          "base_uri": "https://localhost:8080/"
        },
        "id": "curFyQl1jKBe",
        "outputId": "d1c6d1b3-8e4b-4a0e-8b00-8df024789c65"
      },
      "source": [
        "close = df['close']\r\n",
        "mc = df['marketCap']\r\n",
        "close,mc"
      ],
      "execution_count": 56,
      "outputs": [
        {
          "output_type": "execute_result",
          "data": {
            "text/plain": [
              "(234.32, 1814243813871)"
            ]
          },
          "metadata": {
            "tags": []
          },
          "execution_count": 56
        }
      ]
    },
    {
      "cell_type": "code",
      "metadata": {
        "colab": {
          "base_uri": "https://localhost:8080/",
          "height": 77
        },
        "id": "ttFhWkPlj9Rg",
        "outputId": "9db7eee0-98be-42be-a02e-8c7474a03d4e"
      },
      "source": [
        "ct = ['ticker', 'close price', 'market cap', 'buy qty']\r\n",
        "final_df = pd.DataFrame([[1,2,3,4]], columns = ct)\r\n",
        "final_df"
      ],
      "execution_count": 57,
      "outputs": [
        {
          "output_type": "execute_result",
          "data": {
            "text/html": [
              "<div>\n",
              "<style scoped>\n",
              "    .dataframe tbody tr th:only-of-type {\n",
              "        vertical-align: middle;\n",
              "    }\n",
              "\n",
              "    .dataframe tbody tr th {\n",
              "        vertical-align: top;\n",
              "    }\n",
              "\n",
              "    .dataframe thead th {\n",
              "        text-align: right;\n",
              "    }\n",
              "</style>\n",
              "<table border=\"1\" class=\"dataframe\">\n",
              "  <thead>\n",
              "    <tr style=\"text-align: right;\">\n",
              "      <th></th>\n",
              "      <th>ticker</th>\n",
              "      <th>close price</th>\n",
              "      <th>market cap</th>\n",
              "      <th>buy qty</th>\n",
              "    </tr>\n",
              "  </thead>\n",
              "  <tbody>\n",
              "    <tr>\n",
              "      <th>0</th>\n",
              "      <td>1</td>\n",
              "      <td>2</td>\n",
              "      <td>3</td>\n",
              "      <td>4</td>\n",
              "    </tr>\n",
              "  </tbody>\n",
              "</table>\n",
              "</div>"
            ],
            "text/plain": [
              "   ticker  close price  market cap  buy qty\n",
              "0       1            2           3        4"
            ]
          },
          "metadata": {
            "tags": []
          },
          "execution_count": 57
        }
      ]
    },
    {
      "cell_type": "code",
      "metadata": {
        "colab": {
          "base_uri": "https://localhost:8080/",
          "height": 107
        },
        "id": "EA52FSDplObt",
        "outputId": "b327a817-e149-43e3-e977-da025b4dfd24"
      },
      "source": [
        "final_df.append(\r\n",
        "    pd.Series(\r\n",
        "        [ticker,\r\n",
        "         close,\r\n",
        "         mc,\r\n",
        "         'n/a'\r\n",
        "        ],\r\n",
        "    index = ct\r\n",
        "    ),\r\n",
        "    ignore_index=True # necessary whenever use append???\r\n",
        ")"
      ],
      "execution_count": 58,
      "outputs": [
        {
          "output_type": "execute_result",
          "data": {
            "text/html": [
              "<div>\n",
              "<style scoped>\n",
              "    .dataframe tbody tr th:only-of-type {\n",
              "        vertical-align: middle;\n",
              "    }\n",
              "\n",
              "    .dataframe tbody tr th {\n",
              "        vertical-align: top;\n",
              "    }\n",
              "\n",
              "    .dataframe thead th {\n",
              "        text-align: right;\n",
              "    }\n",
              "</style>\n",
              "<table border=\"1\" class=\"dataframe\">\n",
              "  <thead>\n",
              "    <tr style=\"text-align: right;\">\n",
              "      <th></th>\n",
              "      <th>ticker</th>\n",
              "      <th>close price</th>\n",
              "      <th>market cap</th>\n",
              "      <th>buy qty</th>\n",
              "    </tr>\n",
              "  </thead>\n",
              "  <tbody>\n",
              "    <tr>\n",
              "      <th>0</th>\n",
              "      <td>1</td>\n",
              "      <td>2.00</td>\n",
              "      <td>3</td>\n",
              "      <td>4</td>\n",
              "    </tr>\n",
              "    <tr>\n",
              "      <th>1</th>\n",
              "      <td>MSFT</td>\n",
              "      <td>234.32</td>\n",
              "      <td>1814243813871</td>\n",
              "      <td>n/a</td>\n",
              "    </tr>\n",
              "  </tbody>\n",
              "</table>\n",
              "</div>"
            ],
            "text/plain": [
              "  ticker  close price     market cap buy qty\n",
              "0      1         2.00              3       4\n",
              "1   MSFT       234.32  1814243813871     n/a"
            ]
          },
          "metadata": {
            "tags": []
          },
          "execution_count": 58
        }
      ]
    },
    {
      "cell_type": "code",
      "metadata": {
        "colab": {
          "base_uri": "https://localhost:8080/"
        },
        "id": "Z4AMRcHoamE5",
        "outputId": "c29c51b9-00d5-4463-830d-ff025513ba1d"
      },
      "source": [
        "# using dynamic input from certain API would be ideal; using static list for now\r\n",
        "from google.colab import drive\r\n",
        "drive.mount('/content/drive')\r\n",
        "\r\n",
        "# load static ticker list\r\n",
        "tlist = pd.read_csv('/content/drive/MyDrive/sp_500_stocks.csv')\r\n"
      ],
      "execution_count": 65,
      "outputs": [
        {
          "output_type": "stream",
          "text": [
            "Drive already mounted at /content/drive; to attempt to forcibly remount, call drive.mount(\"/content/drive\", force_remount=True).\n"
          ],
          "name": "stdout"
        }
      ]
    },
    {
      "cell_type": "code",
      "metadata": {
        "colab": {
          "base_uri": "https://localhost:8080/",
          "height": 197
        },
        "id": "87Yb_3U1dzVJ",
        "outputId": "16884266-64ce-4df4-ac73-21d0f6b22852"
      },
      "source": [
        "final_df = pd.DataFrame(columns = ct)\r\n",
        "for ticker in tlist['Ticker'][:5]: # check first 5 tickers only\r\n",
        "  request = f'https://sandbox.iexapis.com/stable/stock/{ticker}/quote?token={KEY}' \r\n",
        "  df = requests.get(request).json() # single api request via http = slow!\r\n",
        "  final_df = final_df.append(\r\n",
        "      pd.Series(\r\n",
        "          [ticker,\r\n",
        "           df['latestPrice'],\r\n",
        "           df['marketCap'],\r\n",
        "           'n/a'           \r\n",
        "          ],\r\n",
        "          index = ct),\r\n",
        "      ignore_index = True\r\n",
        "  )\r\n",
        "\r\n",
        "#del fdf\r\n",
        "final_df"
      ],
      "execution_count": 66,
      "outputs": [
        {
          "output_type": "execute_result",
          "data": {
            "text/html": [
              "<div>\n",
              "<style scoped>\n",
              "    .dataframe tbody tr th:only-of-type {\n",
              "        vertical-align: middle;\n",
              "    }\n",
              "\n",
              "    .dataframe tbody tr th {\n",
              "        vertical-align: top;\n",
              "    }\n",
              "\n",
              "    .dataframe thead th {\n",
              "        text-align: right;\n",
              "    }\n",
              "</style>\n",
              "<table border=\"1\" class=\"dataframe\">\n",
              "  <thead>\n",
              "    <tr style=\"text-align: right;\">\n",
              "      <th></th>\n",
              "      <th>ticker</th>\n",
              "      <th>close price</th>\n",
              "      <th>market cap</th>\n",
              "      <th>buy qty</th>\n",
              "    </tr>\n",
              "  </thead>\n",
              "  <tbody>\n",
              "    <tr>\n",
              "      <th>0</th>\n",
              "      <td>A</td>\n",
              "      <td>125.76</td>\n",
              "      <td>38251553209</td>\n",
              "      <td>n/a</td>\n",
              "    </tr>\n",
              "    <tr>\n",
              "      <th>1</th>\n",
              "      <td>AAL</td>\n",
              "      <td>20.98</td>\n",
              "      <td>13668737849</td>\n",
              "      <td>n/a</td>\n",
              "    </tr>\n",
              "    <tr>\n",
              "      <th>2</th>\n",
              "      <td>AAP</td>\n",
              "      <td>166.00</td>\n",
              "      <td>10782434453</td>\n",
              "      <td>n/a</td>\n",
              "    </tr>\n",
              "    <tr>\n",
              "      <th>3</th>\n",
              "      <td>AAPL</td>\n",
              "      <td>121.42</td>\n",
              "      <td>2129023243737</td>\n",
              "      <td>n/a</td>\n",
              "    </tr>\n",
              "    <tr>\n",
              "      <th>4</th>\n",
              "      <td>ABBV</td>\n",
              "      <td>109.09</td>\n",
              "      <td>194443349499</td>\n",
              "      <td>n/a</td>\n",
              "    </tr>\n",
              "  </tbody>\n",
              "</table>\n",
              "</div>"
            ],
            "text/plain": [
              "  ticker  close price     market cap buy qty\n",
              "0      A       125.76    38251553209     n/a\n",
              "1    AAL        20.98    13668737849     n/a\n",
              "2    AAP       166.00    10782434453     n/a\n",
              "3   AAPL       121.42  2129023243737     n/a\n",
              "4   ABBV       109.09   194443349499     n/a"
            ]
          },
          "metadata": {
            "tags": []
          },
          "execution_count": 66
        }
      ]
    },
    {
      "cell_type": "code",
      "metadata": {
        "colab": {
          "base_uri": "https://localhost:8080/"
        },
        "id": "OJHlEipKczvN",
        "outputId": "3918c170-5c48-4ff5-f10b-fd2c75db2ed8"
      },
      "source": [
        "def chunks(lst, n): # function to divide ticker list for multiple api request\n",
        "  for i in range(0, len(lst),n):\n",
        "    yield lst[i:i + n]\n",
        "\n",
        "tgroups = list(chunks(tlist['Ticker'], 101))\n",
        "for i in range(0, len(tgroups)):\n",
        "  print(tgroups[i])\n",
        "  "
      ],
      "execution_count": 73,
      "outputs": [
        {
          "output_type": "stream",
          "text": [
            "0          A\n",
            "1        AAL\n",
            "2        AAP\n",
            "3       AAPL\n",
            "4       ABBV\n",
            "       ...  \n",
            "96        CL\n",
            "97       CLX\n",
            "98       CMA\n",
            "99     CMCSA\n",
            "100      CME\n",
            "Name: Ticker, Length: 101, dtype: object\n",
            "101     CMG\n",
            "102     CMI\n",
            "103     CMS\n",
            "104     CNC\n",
            "105     CNP\n",
            "       ... \n",
            "197      GD\n",
            "198      GE\n",
            "199    GILD\n",
            "200     GIS\n",
            "201      GL\n",
            "Name: Ticker, Length: 101, dtype: object\n",
            "202      GLW\n",
            "203       GM\n",
            "204     GOOG\n",
            "205    GOOGL\n",
            "206      GPC\n",
            "       ...  \n",
            "298      MCD\n",
            "299     MCHP\n",
            "300      MCK\n",
            "301      MCO\n",
            "302     MDLZ\n",
            "Name: Ticker, Length: 101, dtype: object\n",
            "303     MDT\n",
            "304     MET\n",
            "305     MGM\n",
            "306     MHK\n",
            "307     MKC\n",
            "       ... \n",
            "399     ROK\n",
            "400     ROL\n",
            "401     ROP\n",
            "402    ROST\n",
            "403     RSG\n",
            "Name: Ticker, Length: 101, dtype: object\n",
            "404     RTX\n",
            "405    SBAC\n",
            "406    SBUX\n",
            "407    SCHW\n",
            "408     SEE\n",
            "       ... \n",
            "500     YUM\n",
            "501     ZBH\n",
            "502    ZBRA\n",
            "503    ZION\n",
            "504     ZTS\n",
            "Name: Ticker, Length: 101, dtype: object\n"
          ],
          "name": "stdout"
        }
      ]
    },
    {
      "cell_type": "code",
      "metadata": {
        "id": "SFucaiG2hr20"
      },
      "source": [
        "\n",
        "\n",
        "\n",
        "\n",
        "\n",
        "\"\"\"\n",
        "# JavaScript Object Notation\n",
        "df = pd.read_json(request)\n",
        "df\n",
        "# need API key to function!!!\n",
        "\"\"\""
      ],
      "execution_count": null,
      "outputs": []
    }
  ]
}