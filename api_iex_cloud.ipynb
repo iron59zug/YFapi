{
  "nbformat": 4,
  "nbformat_minor": 0,
  "metadata": {
    "colab": {
      "name": "api_iex_cloud.ipynb",
      "provenance": [],
      "authorship_tag": "ABX9TyNDCllGwrAkkTjkDP4WzgiJ",
      "include_colab_link": true
    },
    "kernelspec": {
      "name": "python3",
      "display_name": "Python 3"
    }
  },
  "cells": [
    {
      "cell_type": "markdown",
      "metadata": {
        "id": "view-in-github",
        "colab_type": "text"
      },
      "source": [
        "<a href=\"https://colab.research.google.com/github/iron59zug/YFapi/blob/master/api_iex_cloud.ipynb\" target=\"_parent\"><img src=\"https://colab.research.google.com/assets/colab-badge.svg\" alt=\"Open In Colab\"/></a>"
      ]
    },
    {
      "cell_type": "code",
      "metadata": {
        "id": "PC75Irk-Z6uQ",
        "colab_type": "code",
        "colab": {}
      },
      "source": [
        "# calling to API by a request w/ interpolated values\n",
        "# IEX Cloud API not free of charge\n",
        "\n",
        "import pandas as pd"
      ],
      "execution_count": 7,
      "outputs": []
    },
    {
      "cell_type": "code",
      "metadata": {
        "id": "VmM4bb53bp_S",
        "colab_type": "code",
        "colab": {}
      },
      "source": [
        "a1 = 'MSFT' # 1975\n",
        "a2 = 'APPL' # 1976\n",
        "a3 = 'AMZN' # 1994\n",
        "a4 = 'GOOGL' # 1998; Alphabet's A share has 1 vote; C share \"GOOG\" has no vote\n",
        "a5 = 'FB' # 2004\n",
        "\n",
        "ticker = a1 # choose one asset name that will pass to ticker, or:\n",
        "tickers = [a1, a2, a3, a4, a5] # use a list of tickers\n",
        "string = ','.join(tickers) # serialize list into string\n",
        "\n",
        "endpoint = 'chart'\n",
        "period = '1y'\n",
        "KEY = '' # insert API key\n",
        "\n",
        "request = f'https://cloud.iexapis.com/stable/stock/market/batch?symbols={string}&types={endpoint}&range={period}&token={KEY}'"
      ],
      "execution_count": 11,
      "outputs": []
    },
    {
      "cell_type": "code",
      "metadata": {
        "id": "SFucaiG2hr20",
        "colab_type": "code",
        "colab": {}
      },
      "source": [
        "# JavaScript Object Notation\n",
        "df = pd.read_json(request)\n",
        "df\n",
        "# need API key to function!!!"
      ],
      "execution_count": 16,
      "outputs": []
    }
  ]
}