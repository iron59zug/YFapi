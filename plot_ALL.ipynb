{
  "nbformat": 4,
  "nbformat_minor": 0,
  "metadata": {
    "colab": {
      "name": "plot_ALL.ipynb",
      "provenance": [],
      "collapsed_sections": [],
      "authorship_tag": "ABX9TyMd7Svxu4hZDBUYSG/JqRMY",
      "include_colab_link": true
    },
    "kernelspec": {
      "name": "python3",
      "display_name": "Python 3"
    }
  },
  "cells": [
    {
      "cell_type": "markdown",
      "metadata": {
        "id": "view-in-github",
        "colab_type": "text"
      },
      "source": [
        "<a href=\"https://colab.research.google.com/github/iron59zug/YFapi/blob/master/plot_ALL.ipynb\" target=\"_parent\"><img src=\"https://colab.research.google.com/assets/colab-badge.svg\" alt=\"Open In Colab\"/></a>"
      ]
    },
    {
      "cell_type": "code",
      "metadata": {
        "id": "_K5Hrw5WCTeq"
      },
      "source": [
        "# last update: 2020-11-29\n",
        "\n",
        "# plotting 3EMA, MACD, RSI, OBV, etc\n",
        "# using data from Yahoo\n",
        "\n",
        "# libs\n",
        "import datetime\n",
        "import numpy as np\n",
        "import pandas as pd\n",
        "# import seaborn as sns\n",
        "import pandas_datareader as pdr #Jul 07, 2020:\n",
        "#https://buildmedia.readthedocs.org/media/pdf/pandas-datareader/latest/pandas-datareader.pdf\n",
        "import pandas_datareader.data as web # read date from stooq\n",
        "\n",
        "import matplotlib.pyplot as plt # static plot\n",
        "import plotly.graph_objects as go # interactive plot\n",
        "#import ipywidgets as widgets\n",
        "\n",
        "#data\n",
        "dsrc='yahoo'\n",
        "stox='TSLA'\n",
        "sdate='2019-06-30'\n",
        "rown=999\n",
        "\n",
        "dsrca = 'stooq'\n",
        "edate = str(datetime.date.today())\n",
        "rowna = 2\n",
        "\n",
        "#calculation\n",
        "sday=30; lday=252; #EMA\n",
        "STs=12; MTs=20; LTs=26; SLs=9 #MACD\n",
        "days=14 #RSI\n",
        " #OBV\n",
        "\n",
        "#layout\n",
        "fs=28; #font size\n",
        "fsx=36; fsy=9 #figure size, x=width and y=heigth\n",
        "plt.rc('xtick',labelsize=fs)\n",
        "plt.rc('ytick',labelsize=fs)\n",
        "plt.style.use('fivethirtyeight')"
      ],
      "execution_count": 3,
      "outputs": []
    },
    {
      "cell_type": "code",
      "metadata": {
        "id": "MHIAUHKdFeIH",
        "colab": {
          "base_uri": "https://localhost:8080/",
          "height": 197
        },
        "outputId": "ba0f4ac2-635e-404e-9d20-55bbcd1919f3"
      },
      "source": [
        "# prep for data from Yahoo only, other src => other df treatment\n",
        "df = pdr.DataReader(stox, data_source=dsrc,start=sdate)\n",
        "\n",
        "\"\"\"# alternative source from dsrca='stooq'\n",
        "dfa = web.DataReader(stox,dsrca,start=sdate,end=edate)\n",
        "dfa[:rown]\n",
        "\"\"\"\n",
        "\n",
        "\"\"\"# alternative source from a csv file\n",
        "from google.colab import files\n",
        "dfu = files.upload()\n",
        "df = df.set_index(pd.DatetimeIndex(df['Date']))\n",
        "\"\"\" \n",
        "\n",
        "df.rename(columns={'High':'h', 'Low':'l', 'Open':'o', 'Close':'c', \n",
        "                   'Volume':'vol', 'Adj Close':'ac'}, inplace=True)\n",
        "df.drop(['h','l','o'], axis=1, inplace=True) #delete unnecessary columns\n",
        "# df = df.tail(rown) # only use last x lines of data\n",
        "dfs = df.iloc[np.r_[0:2, -2:0]]; dfs # show a small sample\n",
        "\n",
        "\n",
        "#https://stackoverflow.com/questions/45441885/how-can-i-create-a-dropdown-menu-from-a-list-in-tkinter\n",
        "#https://towardsdatascience.com/bring-your-jupyter-notebook-to-life-with-interactive-widgets-bc12e03f0916\n"
      ],
      "execution_count": 2,
      "outputs": [
        {
          "output_type": "execute_result",
          "data": {
            "text/html": [
              "<div>\n",
              "<style scoped>\n",
              "    .dataframe tbody tr th:only-of-type {\n",
              "        vertical-align: middle;\n",
              "    }\n",
              "\n",
              "    .dataframe tbody tr th {\n",
              "        vertical-align: top;\n",
              "    }\n",
              "\n",
              "    .dataframe thead th {\n",
              "        text-align: right;\n",
              "    }\n",
              "</style>\n",
              "<table border=\"1\" class=\"dataframe\">\n",
              "  <thead>\n",
              "    <tr style=\"text-align: right;\">\n",
              "      <th></th>\n",
              "      <th>c</th>\n",
              "      <th>vol</th>\n",
              "      <th>ac</th>\n",
              "    </tr>\n",
              "    <tr>\n",
              "      <th>Date</th>\n",
              "      <th></th>\n",
              "      <th></th>\n",
              "      <th></th>\n",
              "    </tr>\n",
              "  </thead>\n",
              "  <tbody>\n",
              "    <tr>\n",
              "      <th>2019-07-01</th>\n",
              "      <td>45.433998</td>\n",
              "      <td>41067000.0</td>\n",
              "      <td>45.433998</td>\n",
              "    </tr>\n",
              "    <tr>\n",
              "      <th>2019-07-02</th>\n",
              "      <td>44.910000</td>\n",
              "      <td>46295000.0</td>\n",
              "      <td>44.910000</td>\n",
              "    </tr>\n",
              "    <tr>\n",
              "      <th>2020-11-25</th>\n",
              "      <td>574.000000</td>\n",
              "      <td>48930200.0</td>\n",
              "      <td>574.000000</td>\n",
              "    </tr>\n",
              "    <tr>\n",
              "      <th>2020-11-27</th>\n",
              "      <td>585.760010</td>\n",
              "      <td>37561100.0</td>\n",
              "      <td>585.760010</td>\n",
              "    </tr>\n",
              "  </tbody>\n",
              "</table>\n",
              "</div>"
            ],
            "text/plain": [
              "                     c         vol          ac\n",
              "Date                                          \n",
              "2019-07-01   45.433998  41067000.0   45.433998\n",
              "2019-07-02   44.910000  46295000.0   44.910000\n",
              "2020-11-25  574.000000  48930200.0  574.000000\n",
              "2020-11-27  585.760010  37561100.0  585.760010"
            ]
          },
          "metadata": {
            "tags": []
          },
          "execution_count": 2
        }
      ]
    }
  ]
}