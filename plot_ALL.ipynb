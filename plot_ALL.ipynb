{
  "nbformat": 4,
  "nbformat_minor": 0,
  "metadata": {
    "colab": {
      "name": "plot_ALL.ipynb",
      "provenance": [],
      "authorship_tag": "ABX9TyPpeyivHP3qPhS17Nh6uyYA",
      "include_colab_link": true
    },
    "kernelspec": {
      "name": "python3",
      "display_name": "Python 3"
    }
  },
  "cells": [
    {
      "cell_type": "markdown",
      "metadata": {
        "id": "view-in-github",
        "colab_type": "text"
      },
      "source": [
        "<a href=\"https://colab.research.google.com/github/iron59zug/YFapi/blob/master/plot_ALL.ipynb\" target=\"_parent\"><img src=\"https://colab.research.google.com/assets/colab-badge.svg\" alt=\"Open In Colab\"/></a>"
      ]
    },
    {
      "cell_type": "code",
      "metadata": {
        "id": "_K5Hrw5WCTeq",
        "colab_type": "code",
        "colab": {}
      },
      "source": [
        "# plotting EMA, MACD, RSI, OBV, etc\n",
        "# using data from Yahoo\n",
        "\n",
        "# libs\n",
        "import numpy as np\n",
        "import pandas as pd\n",
        "import pandas_datareader as pdr\n",
        "import matplotlib.pyplot as plt\n",
        "import plotly.graph_objects as go # interactive chart\n",
        "#import ipywidgets as widgets\n",
        "\n",
        "#data\n",
        "stox='MTLS'\n",
        "sdate='2017-12-31'\n",
        "rown=999\n",
        "\n",
        "#calculation\n",
        "sday=30; lday=252; #EMA\n",
        "STs=12; LTs=26; SLs=9 #MACD\n",
        "days=14 #RSI\n",
        " #OBV\n",
        "\n",
        "#layout\n",
        "fs=28; fsx=36; fsy=9\n",
        "plt.rc('xtick',labelsize=fs)\n",
        "plt.rc('ytick',labelsize=fs)\n",
        "plt.style.use('fivethirtyeight')"
      ],
      "execution_count": null,
      "outputs": []
    },
    {
      "cell_type": "code",
      "metadata": {
        "id": "MHIAUHKdFeIH",
        "colab_type": "code",
        "colab": {}
      },
      "source": [
        "df = pdr.DataReader(stox, data_source='yahoo',start=sdate)\n",
        "\"\"\"# alternative: use data from a csv file\n",
        "from google.colab import files\n",
        "dfu = files.upload()\n",
        "df = df.set_index(pd.DatetimeIndex(df['Date']))\n",
        "\"\"\" \n",
        "df.rename(columns={'High':'h', 'Low':'l', 'Open':'o', 'Close':'c', 'Volume':'vol', 'Adj Close':'ac'}, inplace=True)\n",
        "# df = df.tail(rown) # only use last x lines of data\n",
        "# dfs = df.iloc[np.r_[0:2, -2:0]]; dfs # show a small sample\n",
        "\n",
        "\n",
        "#https://stackoverflow.com/questions/45441885/how-can-i-create-a-dropdown-menu-from-a-list-in-tkinter\n",
        "#https://towardsdatascience.com/bring-your-jupyter-notebook-to-life-with-interactive-widgets-bc12e03f0916\n",
        "# 2b continued - 2020-07-20\n",
        "\n"
      ],
      "execution_count": null,
      "outputs": []
    }
  ]
}