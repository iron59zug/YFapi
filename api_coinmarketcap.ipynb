{
  "nbformat": 4,
  "nbformat_minor": 0,
  "metadata": {
    "colab": {
      "name": "example_api.ipynb",
      "provenance": [],
      "authorship_tag": "ABX9TyMox9pd4Ymd9QB8cgziNHpY",
      "include_colab_link": true
    },
    "kernelspec": {
      "name": "python3",
      "display_name": "Python 3"
    }
  },
  "cells": [
    {
      "cell_type": "markdown",
      "metadata": {
        "id": "view-in-github",
        "colab_type": "text"
      },
      "source": [
        "<a href=\"https://colab.research.google.com/github/iron59zug/YFapi/blob/master/example_api.ipynb\" target=\"_parent\"><img src=\"https://colab.research.google.com/assets/colab-badge.svg\" alt=\"Open In Colab\"/></a>"
      ]
    },
    {
      "cell_type": "code",
      "metadata": {
        "id": "y2ghTJ3iVXM7",
        "colab_type": "code",
        "colab": {}
      },
      "source": [
        "# use a function to get price from an API\n",
        "# API changed, update needed\n",
        "\n",
        "import requests # alternative:\n",
        "from urllib3 import PoolManager; \n",
        "from time import sleep\n",
        "\n",
        "API = 'https://sandbox.coinmarketcap.com/v1/cryptocurrency/listings/latest/'\n",
        "# CoinMarketCap now require developers to open an account to get an API Key \n",
        "# https://coinmarketcap.com/api/documentation/v1/#section/Quick-Start-Guide\n",
        "KEY = \"\" # insert API key\n",
        "\n",
        "c1 = 'bitcoin'\n",
        "c2 = 'ethereum'\n",
        "c3 = 'dash'\n",
        "c4 = 'zcash'\n",
        "c5 = 'dogecoin'\n",
        "t1 = c1 # choose a coin name that will pass to ticker\n",
        "\n",
        "# idea: use array instead of single var\n",
        "tickers = [c1, c2, c3, c4, c5]"
      ],
      "execution_count": 27,
      "outputs": []
    },
    {
      "cell_type": "code",
      "metadata": {
        "id": "npUtQdrSYWHD",
        "colab_type": "code",
        "colab": {}
      },
      "source": [
        "# get current price\n",
        "def gcp(ticker):\n",
        "  rsvp = requests.get(API+ticker) # need update, idea:\n",
        "  \"\"\"\n",
        "  pm = PoolManager()\n",
        "  rsvp = pm.request(\"GET\", API, headers={'Accepts': 'application/json', 'X-CMC_PRO_API_KEY': KEY})\n",
        "  \"\"\"\n",
        "  rsvp_json = rsvp.json()\n",
        "  return  float(rsvp_json[0]['usd']) # need update\n",
        "\n",
        "\n",
        "#gcp(t1) # test the function"
      ],
      "execution_count": 24,
      "outputs": []
    },
    {
      "cell_type": "code",
      "metadata": {
        "id": "MoqIG5sja4TH",
        "colab_type": "code",
        "colab": {}
      },
      "source": [
        "def main():\n",
        "  while True:\n",
        "    ticker = t1\n",
        "    price = gcp(ticker)\n",
        "    if price != last_price:\n",
        "      print(t1,': ',price)\n",
        "      last_price = price\n",
        "    sleep\n",
        "#main () # need update to comply w/ new api"
      ],
      "execution_count": 23,
      "outputs": []
    }
  ]
}
