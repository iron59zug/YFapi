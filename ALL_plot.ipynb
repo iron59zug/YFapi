{
  "nbformat": 4,
  "nbformat_minor": 0,
  "metadata": {
    "colab": {
      "name": "ALL.plot.ipynb",
      "provenance": [],
      "authorship_tag": "ABX9TyMLnQsnGkHOrJugak/FqQEb",
      "include_colab_link": true
    },
    "kernelspec": {
      "name": "python3",
      "display_name": "Python 3"
    }
  },
  "cells": [
    {
      "cell_type": "markdown",
      "metadata": {
        "id": "view-in-github",
        "colab_type": "text"
      },
      "source": [
        "<a href=\"https://colab.research.google.com/github/iron59zug/YFapi/blob/master/ALL_plot.ipynb\" target=\"_parent\"><img src=\"https://colab.research.google.com/assets/colab-badge.svg\" alt=\"Open In Colab\"/></a>"
      ]
    },
    {
      "cell_type": "code",
      "metadata": {
        "id": "_K5Hrw5WCTeq",
        "colab_type": "code",
        "colab": {}
      },
      "source": [
        "# plotting EMA, MACD, RSI, OBV, etc\n",
        "# using data from Yahoo\n",
        "\n",
        "# libs\n",
        "import numpy as np\n",
        "import pandas as pd\n",
        "import pandas_datareader as pdr\n",
        "import matplotlib.pyplot as plt\n",
        "\n",
        "#data\n",
        "stox='MTLS'\n",
        "sdate='2017-12-31'\n",
        "\n",
        "#calculation\n",
        "sday=30; lday=252; #EMA\n",
        "STs=12; LTs=26; SLs=9 #MACD\n",
        "days=14 #RSI\n",
        " #OBV\n",
        "\n",
        "#layout\n",
        "fs=28; fsx=36; fsy=9\n",
        "plt.rc('xtick',labelsize=fs)\n",
        "plt.rc('ytick',labelsize=fs)\n",
        "plt.style.use('fivethirtyeight')"
      ],
      "execution_count": 3,
      "outputs": []
    },
    {
      "cell_type": "code",
      "metadata": {
        "id": "MHIAUHKdFeIH",
        "colab_type": "code",
        "colab": {}
      },
      "source": [
        "# 2b continued - 2020-07-02"
      ],
      "execution_count": null,
      "outputs": []
    }
  ]
}