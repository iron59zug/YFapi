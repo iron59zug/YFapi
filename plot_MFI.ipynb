{
  "nbformat": 4,
  "nbformat_minor": 0,
  "metadata": {
    "colab": {
      "name": "plot_MFI.ipynb",
      "provenance": [],
      "authorship_tag": "ABX9TyOOZwGM6Y1X/ki44cqnpMqw",
      "include_colab_link": true
    },
    "kernelspec": {
      "name": "python3",
      "display_name": "Python 3"
    }
  },
  "cells": [
    {
      "cell_type": "markdown",
      "metadata": {
        "id": "view-in-github",
        "colab_type": "text"
      },
      "source": [
        "<a href=\"https://colab.research.google.com/github/iron59zug/YFapi/blob/master/plot_MFI.ipynb\" target=\"_parent\"><img src=\"https://colab.research.google.com/assets/colab-badge.svg\" alt=\"Open In Colab\"/></a>"
      ]
    },
    {
      "cell_type": "code",
      "metadata": {
        "id": "LG3c46yfb6wN"
      },
      "source": [
        "#to do:\n",
        "\"\"\"\n",
        "1....\n",
        "\n",
        "\"\"\"\n",
        "\n",
        "# libs\n",
        "import numpy as np\n",
        "import pandas as pd\n",
        "import pandas_datareader as pdr\n",
        "import matplotlib.pyplot as plt\n",
        "\n",
        "#data\n",
        "stox='ackb.BR'\n",
        "sdate='2008-06-30'\n",
        "\n",
        "#calculation\n",
        "days=14 #RSI\n",
        "STs=28; LTs=250 #EMA\n",
        "\n",
        "#layout\n",
        "fs=28; #font size\n",
        "fsx=36; fsy=9 #figure size, x=width and y=heigth\n",
        "# idea: fsxy= figsize=($fsx,$fsy)\n",
        "plt.rc('xtick',labelsize=fs)\n",
        "plt.rc('ytick',labelsize=fs)\n",
        "plt.style.use('fivethirtyeight')"
      ],
      "execution_count": null,
      "outputs": []
    }
  ]
}